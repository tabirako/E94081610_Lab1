{
 "cells": [
  {
   "cell_type": "code",
   "execution_count": 1,
   "id": "afbe1059-4a21-4e40-aa46-c36c7995b3bf",
   "metadata": {},
   "outputs": [],
   "source": [
    "def reverse(in_str:str):\n",
    "        length = len(in_str)\n",
    "        var = 0\n",
    "        new_str = ''\n",
    "        \n",
    "        #reverse each character bit\n",
    "        while(var < length):\n",
    "            new_str += in_str[length-var-1]\n",
    "            var += 1\n",
    "            \n",
    "        return new_str\n",
    "        "
   ]
  },
  {
   "cell_type": "code",
   "execution_count": 2,
   "id": "386f5da5-0c3b-4186-b184-7a01bc3b91ad",
   "metadata": {},
   "outputs": [
    {
     "name": "stdout",
     "output_type": "stream",
     "text": [
      "Enter an integer: \n"
     ]
    }
   ],
   "source": [
    "print('Enter an integer: ')"
   ]
  },
  {
   "cell_type": "code",
   "execution_count": 3,
   "id": "10adcff2-9cd3-4234-82c8-daa2556fc591",
   "metadata": {},
   "outputs": [
    {
     "name": "stdin",
     "output_type": "stream",
     "text": [
      " 123456789\n"
     ]
    },
    {
     "data": {
      "text/plain": [
       "'987654321'"
      ]
     },
     "execution_count": 3,
     "metadata": {},
     "output_type": "execute_result"
    }
   ],
   "source": [
    "reverse(input())"
   ]
  },
  {
   "cell_type": "code",
   "execution_count": null,
   "id": "ca0f2da2-49b5-48f8-bb1b-0817230dc107",
   "metadata": {},
   "outputs": [],
   "source": []
  }
 ],
 "metadata": {
  "kernelspec": {
   "display_name": "Python 3",
   "language": "python",
   "name": "python3"
  },
  "language_info": {
   "codemirror_mode": {
    "name": "ipython",
    "version": 3
   },
   "file_extension": ".py",
   "mimetype": "text/x-python",
   "name": "python",
   "nbconvert_exporter": "python",
   "pygments_lexer": "ipython3",
   "version": "3.8.8"
  }
 },
 "nbformat": 4,
 "nbformat_minor": 5
}
