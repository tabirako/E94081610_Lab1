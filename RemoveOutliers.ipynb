{
 "cells": [
  {
   "cell_type": "code",
   "execution_count": 1,
   "id": "4bcac85a-88e1-4f9a-8745-6c14d7f6fbf4",
   "metadata": {},
   "outputs": [
    {
     "name": "stdout",
     "output_type": "stream",
     "text": [
      "Enter the number of smallest and largest values to remove:\n"
     ]
    }
   ],
   "source": [
    "print('Enter the number of smallest and largest values to remove:') "
   ]
  },
  {
   "cell_type": "code",
   "execution_count": 12,
   "id": "015921df-5dc0-4db4-8642-cefb7b7a0038",
   "metadata": {},
   "outputs": [
    {
     "name": "stdin",
     "output_type": "stream",
     "text": [
      " 1\n",
      " 2\n",
      " 3\n",
      " 4\n",
      " 5\n",
      " q\n"
     ]
    },
    {
     "name": "stdout",
     "output_type": "stream",
     "text": [
      "The original data: [2, 3, 4, 5]\n",
      "The data with the outliers removed: [3, 4]\n",
      "The outliers: [2, 5]\n"
     ]
    }
   ],
   "source": [
    "#for checking the input while loop\n",
    "flag = 1\n",
    "\n",
    "#create two lists, one for original input,another for outliers\n",
    "a = list()\n",
    "b = list()\n",
    "\n",
    "#user input \n",
    "trim = int(input())\n",
    "\n",
    "#input loop\n",
    "while(flag == 1):\n",
    "    temp_input = input()\n",
    "    if (temp_input == 'q' or temp_input == 'Q' or temp_input == ''):\n",
    "        flag = 0;\n",
    "    else:\n",
    "        a.append(int(temp_input))\n",
    "        \n",
    "\n",
    "print('The original data:',a)\n",
    "\n",
    "a.sort()\n",
    "\n",
    "#remove the outliers and save it to b\n",
    "while(int(trim) > 0):\n",
    "    b.append(a.pop(0))\n",
    "    b.append(a.pop())\n",
    "    trim-=1\n",
    "  \n",
    "print('The data with the outliers removed:',a)\n",
    "\n",
    "b.sort()\n",
    "\n",
    "print('The outliers:',b)"
   ]
  },
  {
   "cell_type": "markdown",
   "id": "59eb1c23-a2b0-4d51-9808-482ccdf6c058",
   "metadata": {},
   "source": [
    "### "
   ]
  }
 ],
 "metadata": {
  "kernelspec": {
   "display_name": "Python 3",
   "language": "python",
   "name": "python3"
  },
  "language_info": {
   "codemirror_mode": {
    "name": "ipython",
    "version": 3
   },
   "file_extension": ".py",
   "mimetype": "text/x-python",
   "name": "python",
   "nbconvert_exporter": "python",
   "pygments_lexer": "ipython3",
   "version": "3.8.8"
  }
 },
 "nbformat": 4,
 "nbformat_minor": 5
}
