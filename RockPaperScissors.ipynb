{
 "cells": [
  {
   "cell_type": "code",
   "execution_count": 2,
   "id": "6c35dd15-024d-45ba-8793-a36195af20c7",
   "metadata": {},
   "outputs": [],
   "source": [
    "import random\n"
   ]
  },
  {
   "cell_type": "code",
   "execution_count": 3,
   "id": "7b56ce82-0929-4830-88c3-3c70c6f34a45",
   "metadata": {},
   "outputs": [],
   "source": [
    "winning_Flag = 0"
   ]
  },
  {
   "cell_type": "code",
   "execution_count": 4,
   "id": "f0a476e6-3e71-4629-a1de-94678d94868d",
   "metadata": {},
   "outputs": [
    {
     "name": "stdout",
     "output_type": "stream",
     "text": [
      "Welcome to ROCK, PAPER, SCISSORS game!\n"
     ]
    }
   ],
   "source": [
    "print(f'Welcome to ROCK, PAPER, SCISSORS game!')"
   ]
  },
  {
   "cell_type": "code",
   "execution_count": 5,
   "id": "5cefff72-55fd-48b3-a870-1862854e9790",
   "metadata": {},
   "outputs": [],
   "source": [
    "class lab1():\n",
    "    def __init__(self):\n",
    "        self.tie = 0\n",
    "        self.lose = 0\n",
    "        \n",
    "    def game(self,choice):\n",
    "        global winning_Flag\n",
    "        \n",
    "        #print stuff\n",
    "        if choice == 'r':\n",
    "            print(f'Rock')\n",
    "        elif choice == 'p':\n",
    "            print(f'Paper')\n",
    "        else: \n",
    "            print(f'Scissor')\n",
    "            \n",
    "        print(f' versus...')\n",
    "        \n",
    "        #generate random number\n",
    "        self.rand = random.randint(1,3);\n",
    "        \n",
    "        #turning it into string   \n",
    "        if self.rand == 1:\n",
    "            self.comchoice = 'r'\n",
    "            print(f'Rock')\n",
    "        elif self.rand == 2:\n",
    "            self.comchoice = 'p'\n",
    "            print(f'Paper')\n",
    "        else: \n",
    "            self.comchoice = 's'\n",
    "            print(f'Scissor')\n",
    "        \n",
    "            \n",
    "            \n",
    "        #decides outcome\n",
    "        if choice == 'r':\n",
    "            \n",
    "            if self.comchoice == 'r':\n",
    "                print(f'It is a tie!')\n",
    "                self.tie+=1;\n",
    "            elif self.comchoice == 's':\n",
    "                print(f'You win!')\n",
    "                winning_Flag = 1\n",
    "            else:\n",
    "                #paper\n",
    "                print(f'You lose!')\n",
    "                self.lose+=1;\n",
    "                      \n",
    "        elif choice == 'p':\n",
    "            \n",
    "            if self.comchoice == 'p':\n",
    "                print(f'It is a tie!')\n",
    "                self.tie+=1;\n",
    "            elif self.comchoice == 'r':\n",
    "                print(f'You win!')\n",
    "                winning_Flag = 1\n",
    "            else:\n",
    "                #scissor\n",
    "                print(f'You lose!')\n",
    "                self.lose+=1;\n",
    "            \n",
    "        else: \n",
    "            #scissor\n",
    "            if self.comchoice == 's':\n",
    "                print(f'It is a tie!')\n",
    "                self.tie+=1;\n",
    "            elif self.comchoice == 'p':\n",
    "                print(f'You win!')\n",
    "                winning_Flag = 1\n",
    "            else:\n",
    "                #rock\n",
    "                print(f'You lose!')\n",
    "                self.lose+=1;\n",
    "                \n",
    "            "
   ]
  },
  {
   "cell_type": "code",
   "execution_count": 6,
   "id": "99e99bc5-bd8a-4223-a460-80a78109d424",
   "metadata": {},
   "outputs": [],
   "source": [
    "#creating instances\n",
    "game1 = lab1();"
   ]
  },
  {
   "cell_type": "code",
   "execution_count": 7,
   "id": "e51c41a7-81d8-466b-b25e-6c5df241d38e",
   "metadata": {},
   "outputs": [
    {
     "name": "stdout",
     "output_type": "stream",
     "text": [
      "Enter your move: (r)ock (p)aper (s)cissors\n"
     ]
    },
    {
     "name": "stdin",
     "output_type": "stream",
     "text": [
      " p\n"
     ]
    },
    {
     "name": "stdout",
     "output_type": "stream",
     "text": [
      "Paper\n",
      " versus...\n",
      "Scissor\n",
      "You lose!\n",
      "Enter your move: (r)ock (p)aper (s)cissors\n"
     ]
    },
    {
     "name": "stdin",
     "output_type": "stream",
     "text": [
      " p\n"
     ]
    },
    {
     "name": "stdout",
     "output_type": "stream",
     "text": [
      "Paper\n",
      " versus...\n",
      "Paper\n",
      "It is a tie!\n",
      "Enter your move: (r)ock (p)aper (s)cissors\n"
     ]
    },
    {
     "name": "stdin",
     "output_type": "stream",
     "text": [
      " s\n"
     ]
    },
    {
     "name": "stdout",
     "output_type": "stream",
     "text": [
      "Scissor\n",
      " versus...\n",
      "Rock\n",
      "You lose!\n",
      "Enter your move: (r)ock (p)aper (s)cissors\n"
     ]
    },
    {
     "name": "stdin",
     "output_type": "stream",
     "text": [
      " s\n"
     ]
    },
    {
     "name": "stdout",
     "output_type": "stream",
     "text": [
      "Scissor\n",
      " versus...\n",
      "Paper\n",
      "You win!\n",
      "You have 1 ties and 2  losses before your first win.\n"
     ]
    }
   ],
   "source": [
    "\n",
    "while (winning_Flag != 1):\n",
    "    print(f'Enter your move: (r)ock (p)aper (s)cissors')\n",
    "    game1.game(input())\n",
    "\n",
    "print(f'You have',game1.tie,f'ties and',game1.lose,f'losses before your first win.')\n"
   ]
  },
  {
   "cell_type": "code",
   "execution_count": null,
   "id": "46c51083-837d-46e1-a775-67f0a6a8efb5",
   "metadata": {},
   "outputs": [],
   "source": []
  },
  {
   "cell_type": "code",
   "execution_count": null,
   "id": "95b81b80-a9f8-4f8f-8e07-0dbb1b5a0d8a",
   "metadata": {},
   "outputs": [],
   "source": []
  }
 ],
 "metadata": {
  "kernelspec": {
   "display_name": "Python 3",
   "language": "python",
   "name": "python3"
  },
  "language_info": {
   "codemirror_mode": {
    "name": "ipython",
    "version": 3
   },
   "file_extension": ".py",
   "mimetype": "text/x-python",
   "name": "python",
   "nbconvert_exporter": "python",
   "pygments_lexer": "ipython3",
   "version": "3.8.8"
  }
 },
 "nbformat": 4,
 "nbformat_minor": 5
}
